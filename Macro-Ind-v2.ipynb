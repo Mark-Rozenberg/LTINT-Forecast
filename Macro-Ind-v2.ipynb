{
 "cells": [
  {
   "cell_type": "code",
   "execution_count": 1,
   "metadata": {},
   "outputs": [],
   "source": [
    "import pandas as pd\n",
    "import requests\n",
    "import io\n",
    "import sqlite3\n",
    "# import matplotlib as plt\n",
    "import matplotlib.pyplot as plt\n",
    "import statsmodels.api as sm\n",
    "from linearmodels.panel import PooledOLS\n",
    "from sklearn.metrics import r2_score, mean_absolute_error, explained_variance_score\n",
    "from sklearn.linear_model import LinearRegression\n",
    "from statsmodels.tsa.statespace.sarimax import SARIMAX"
   ]
  },
  {
   "cell_type": "code",
   "execution_count": 66,
   "metadata": {},
   "outputs": [],
   "source": [
    "# data links\n",
    "wage_url = 'https://sdmx.oecd.org/public/rest/data/OECD.SDD.TPS,DSD_EAR@DF_HOU_EAR,1.0/all?startPeriod=2023-12&dimensionAtObservation=AllDimensions&format=csvfilewithlabels'\n",
    "macro_ind_url = 'https://sdmx.oecd.org/public/rest/data/OECD.SDD.STES,DSD_STES_REVISIONS@DF_STES_REVISIONS,4.0/all?startPeriod=2000-01&dimensionAtObservation=AllDimensions&format=csvfilewithlabels'\n",
    "unemp_url = 'https://sdmx.oecd.org/public/rest/data/OECD.SDD.TPS,DSD_LFS@DF_IALFS_UNE_M,1.0/all?startPeriod=2000-01&dimensionAtObservation=AllDimensions&format=csvfilewithlabels'\n",
    "finance_url = 'https://sdmx.oecd.org/public/rest/data/OECD.SDD.STES,DSD_STES@DF_FINMARK,4.0/all?startPeriod=2000-01&dimensionAtObservation=AllDimensions&format=csvfilewithlabels'\n",
    "cpi_url = 'https://sdmx.oecd.org/public/rest/data/OECD.SDD.TPS,DSD_PRICES@DF_PRICES_ALL,1.0/all?startPeriod=2024-01&dimensionAtObservation=AllDimensions&format=csvfilewithlabels'\n",
    "cci_url = 'https://sdmx.oecd.org/public/rest/data/OECD.SDD.STES,DSD_STES@DF_CS,4.0/all?startPeriod=2024-06&dimensionAtObservation=AllDimensions&format=csvfilewithlabels'"
   ]
  },
  {
   "cell_type": "code",
   "execution_count": 2,
   "metadata": {},
   "outputs": [],
   "source": [
    "conn = sqlite3.connect('/Users/Mark Rozenberg/Downloads/Macro-Indicators/macro_indicators_v2.db')"
   ]
  },
  {
   "cell_type": "markdown",
   "metadata": {},
   "source": [
    "### wages"
   ]
  },
  {
   "cell_type": "code",
   "execution_count": 37,
   "metadata": {},
   "outputs": [
    {
     "data": {
      "text/plain": [
       "511"
      ]
     },
     "execution_count": 37,
     "metadata": {},
     "output_type": "execute_result"
    }
   ],
   "source": [
    "# Read the data from wage_url\n",
    "wage_data = pd.read_csv(io.StringIO(requests.get(wage_url).content.decode('utf-8')), header=0)\n",
    "# wage_data.columns\n",
    "wage_data.rename(columns={\n",
    "'MEASURE': 'measure_code',\n",
    "'Measure': 'measure_name',\n",
    "'ADJUSTMENT': 'adjustment_code',\n",
    "'Adjustment': 'adjustment_name',\n",
    "'TIME_PERIOD': 'time_period_code',\n",
    "'Time period': 'time_period_name',\n",
    "'DECIMALS': 'decimals_code',\n",
    "'Decimals': 'decimals_name'\n",
    "}, inplace=True)\n",
    "# Remove spaces from column names\n",
    "wage_data.columns = wage_data.columns.str.replace(' ', '_')\n",
    "# # Save the data to the wage table in the database\n",
    "wage_data.to_sql('wage', conn, if_exists='replace', index=False)"
   ]
  },
  {
   "cell_type": "markdown",
   "metadata": {},
   "source": [
    "### Finance"
   ]
  },
  {
   "cell_type": "code",
   "execution_count": null,
   "metadata": {},
   "outputs": [
    {
     "data": {
      "text/plain": [
       "112356"
      ]
     },
     "execution_count": 11,
     "metadata": {},
     "output_type": "execute_result"
    }
   ],
   "source": [
    "# Read the data from wage_url\n",
    "finance_data = pd.read_csv(io.StringIO(requests.get(finance_url).content.decode('utf-8')), header=0)\n",
    "finance_data.rename(columns={\n",
    "'MEASURE': 'measure_code',\n",
    "'Measure': 'measure_name',\n",
    "'DECIMALS': 'decimals_code',\n",
    "'Decimals': 'decimals_name',\n",
    "'METHODOLOGY': 'methodology_code',\n",
    "'Methodology': 'methodology_name',\n",
    "'TRANSFORMATION': 'transformation_code',\n",
    "'Transformation': 'transformation_name',\n",
    "'ADJUSTMENT': 'adjustment_code',\n",
    "'Adjustment': 'adjustment_name',\n",
    "'TIME_PERIOD': 'time_period_code',\n",
    "'Time_period': 'time_period_name'\n",
    "}, inplace=True)\n",
    "# Remove spaces from column names\n",
    "finance_data.columns = finance_data.columns.str.replace(' ', '_')\n",
    "# Save the data to the wage table in the database\n",
    "finance_data.to_sql('finance', conn, if_exists='replace', index=False)"
   ]
  },
  {
   "cell_type": "markdown",
   "metadata": {},
   "source": [
    "### unemployment"
   ]
  },
  {
   "cell_type": "code",
   "execution_count": null,
   "metadata": {},
   "outputs": [
    {
     "data": {
      "text/plain": [
       "304274"
      ]
     },
     "execution_count": 14,
     "metadata": {},
     "output_type": "execute_result"
    }
   ],
   "source": [
    "# Read the data from wage_url\n",
    "unemp_data = pd.read_csv(io.StringIO(requests.get(unemp_url).content.decode('utf-8')), header=0)\n",
    "# unemp_data.columns\n",
    "unemp_data.rename(columns={\n",
    "'MEASURE': 'measure_code',\n",
    "'Measure': 'measure_name',\n",
    "'DECIMALS': 'decimals_code',\n",
    "'Decimals': 'decimals_name',\n",
    "'SEX': 'sex_code',\n",
    "'Sex': 'sex_name',\n",
    "'AGE': 'age_code',\n",
    "'Age': 'age_name',\n",
    "'TRANSFORMATION': 'transformation_code',\n",
    "'Transformation': 'transformation_name',\n",
    "'ADJUSTMENT': 'adjustment_code',\n",
    "'Adjustment': 'adjustment_name'\n",
    "}, inplace=True)\n",
    "# Remove spaces from column names\n",
    "unemp_data.columns = unemp_data.columns.str.replace(' ', '_')\n",
    "unemp_data.rename(columns={\n",
    "'TIME_PERIOD': 'time_period_code',\n",
    "'Time_period': 'time_period_name',\n",
    "}, inplace=True)\n",
    "# Save the data to the wage table in the database\n",
    "unemp_data.to_sql('unemp', conn, if_exists='replace', index=False)"
   ]
  },
  {
   "cell_type": "markdown",
   "metadata": {},
   "source": [
    "### prices"
   ]
  },
  {
   "cell_type": "code",
   "execution_count": 73,
   "metadata": {},
   "outputs": [
    {
     "data": {
      "text/plain": [
       "60462"
      ]
     },
     "execution_count": 73,
     "metadata": {},
     "output_type": "execute_result"
    }
   ],
   "source": [
    "# Read the data\n",
    "cpi_data = pd.read_csv(io.StringIO(requests.get(cpi_url).content.decode('utf-8')), header=0)\n",
    "# cpi_data.columns\n",
    "cpi_data.rename(columns={\n",
    "'METHODOLOGY': 'methodology_code',\n",
    "'Methodology': 'methodology_name',\n",
    "'MEASURE': 'measure_code',\n",
    "'Measure': 'measure_name',\n",
    "'EXPENDITURE': 'expenditure_code',\n",
    "'Expenditure': 'expenditure_name',\n",
    "'ADJUSTMENT': 'adjustment_code',\n",
    "'Adjustment': 'adjustment_name',\n",
    "'TRANSFORMATION': 'transformation_code',\n",
    "'Transformation': 'transformation_name',\n",
    "'DURABILITY': 'durability_code',\n",
    "'Durability': 'durability_name',\n",
    "'DECIMALS': 'decimals_code',\n",
    "'Decimals': 'decimals_name',\n",
    "'TIME_PERIOD': 'time_period_code',\n",
    "'Time_period': 'time_period_name',\n",
    "}, inplace=True)\n",
    "cpi_data.columns = cpi_data.columns.str.replace(' ', '_')\n",
    "# Save the data to the wage table in the database\n",
    "cpi_data.to_sql('cpi', conn, if_exists='replace', index=False)"
   ]
  },
  {
   "cell_type": "markdown",
   "metadata": {},
   "source": [
    "### Economic Indicators"
   ]
  },
  {
   "cell_type": "code",
   "execution_count": 68,
   "metadata": {},
   "outputs": [
    {
     "data": {
      "text/plain": [
       "520"
      ]
     },
     "execution_count": 68,
     "metadata": {},
     "output_type": "execute_result"
    }
   ],
   "source": [
    "# Read the data\n",
    "# cci_data = pd.read_csv(io.StringIO(requests.get(cci_url).content.decode('utf-8')), header=0)\n",
    "# cci_data.columns\n",
    "cci_data.rename(columns={\n",
    "'MEASURE': 'measure_code',\n",
    "'Measure': 'measure_name',\n",
    "'ADJUSTMENT': 'adjustment_code',\n",
    "'Adjustment': 'adjustment_name',\n",
    "'TRANSFORMATION': 'transformation_code',\n",
    "'Transformation': 'transformation_name',\n",
    "'TIME_PERIOD': 'time_period_code',\n",
    "'Time_period': 'time_period_name',\n",
    "'DECIMALS': 'decimals_code',\n",
    "'Decimals': 'decimals_name'\n",
    "}, inplace=True)\n",
    "cci_data.columns = cci_data.columns.str.replace(' ', '_')\n",
    "# Save the data to the wage table in the database\n",
    "cci_data.to_sql('cci', conn, if_exists='replace', index=False)"
   ]
  },
  {
   "cell_type": "code",
   "execution_count": 69,
   "metadata": {},
   "outputs": [
    {
     "data": {
      "text/html": [
       "<div>\n",
       "<style scoped>\n",
       "    .dataframe tbody tr th:only-of-type {\n",
       "        vertical-align: middle;\n",
       "    }\n",
       "\n",
       "    .dataframe tbody tr th {\n",
       "        vertical-align: top;\n",
       "    }\n",
       "\n",
       "    .dataframe thead th {\n",
       "        text-align: right;\n",
       "    }\n",
       "</style>\n",
       "<table border=\"1\" class=\"dataframe\">\n",
       "  <thead>\n",
       "    <tr style=\"text-align: right;\">\n",
       "      <th></th>\n",
       "      <th>name</th>\n",
       "    </tr>\n",
       "  </thead>\n",
       "  <tbody>\n",
       "    <tr>\n",
       "      <th>0</th>\n",
       "      <td>finance</td>\n",
       "    </tr>\n",
       "    <tr>\n",
       "      <th>1</th>\n",
       "      <td>unemp</td>\n",
       "    </tr>\n",
       "    <tr>\n",
       "      <th>2</th>\n",
       "      <td>cpi</td>\n",
       "    </tr>\n",
       "    <tr>\n",
       "      <th>3</th>\n",
       "      <td>wage</td>\n",
       "    </tr>\n",
       "    <tr>\n",
       "      <th>4</th>\n",
       "      <td>cci</td>\n",
       "    </tr>\n",
       "  </tbody>\n",
       "</table>\n",
       "</div>"
      ],
      "text/plain": [
       "      name\n",
       "0  finance\n",
       "1    unemp\n",
       "2      cpi\n",
       "3     wage\n",
       "4      cci"
      ]
     },
     "execution_count": 69,
     "metadata": {},
     "output_type": "execute_result"
    }
   ],
   "source": [
    "# Query to list all tables in the database\n",
    "pd.read_sql_query('''SELECT name FROM sqlite_master WHERE type='table';''', conn)"
   ]
  },
  {
   "cell_type": "code",
   "execution_count": 70,
   "metadata": {},
   "outputs": [],
   "source": [
    "del cpi_test"
   ]
  },
  {
   "cell_type": "code",
   "execution_count": 72,
   "metadata": {},
   "outputs": [],
   "source": [
    "cci_test = pd.read_sql_query('''\n",
    "SELECT *\n",
    "FROM cci\n",
    "where\n",
    "freq = 'M'\n",
    "LIMIT 2\n",
    "''', conn)"
   ]
  },
  {
   "cell_type": "code",
   "execution_count": 78,
   "metadata": {},
   "outputs": [
    {
     "data": {
      "text/html": [
       "<div>\n",
       "<style scoped>\n",
       "    .dataframe tbody tr th:only-of-type {\n",
       "        vertical-align: middle;\n",
       "    }\n",
       "\n",
       "    .dataframe tbody tr th {\n",
       "        vertical-align: top;\n",
       "    }\n",
       "\n",
       "    .dataframe thead th {\n",
       "        text-align: right;\n",
       "    }\n",
       "</style>\n",
       "<table border=\"1\" class=\"dataframe\">\n",
       "  <thead>\n",
       "    <tr style=\"text-align: right;\">\n",
       "      <th></th>\n",
       "      <th>count(distinct REF_AREA)</th>\n",
       "    </tr>\n",
       "  </thead>\n",
       "  <tbody>\n",
       "    <tr>\n",
       "      <th>0</th>\n",
       "      <td>39</td>\n",
       "    </tr>\n",
       "  </tbody>\n",
       "</table>\n",
       "</div>"
      ],
      "text/plain": [
       "   count(distinct REF_AREA)\n",
       "0                        39"
      ]
     },
     "execution_count": 78,
     "metadata": {},
     "output_type": "execute_result"
    }
   ],
   "source": [
    "pd.read_sql_query('''\n",
    "SELECT count(distinct REF_AREA)\n",
    "FROM cci\n",
    "where freq = 'M'\n",
    "and measure_code = 'CCICP'\n",
    "''', conn)"
   ]
  },
  {
   "cell_type": "code",
   "execution_count": 79,
   "metadata": {},
   "outputs": [
    {
     "data": {
      "text/html": [
       "<div>\n",
       "<style scoped>\n",
       "    .dataframe tbody tr th:only-of-type {\n",
       "        vertical-align: middle;\n",
       "    }\n",
       "\n",
       "    .dataframe tbody tr th {\n",
       "        vertical-align: top;\n",
       "    }\n",
       "\n",
       "    .dataframe thead th {\n",
       "        text-align: right;\n",
       "    }\n",
       "</style>\n",
       "<table border=\"1\" class=\"dataframe\">\n",
       "  <thead>\n",
       "    <tr style=\"text-align: right;\">\n",
       "      <th></th>\n",
       "      <th>time_period</th>\n",
       "      <th>country</th>\n",
       "      <th>value</th>\n",
       "      <th>rows</th>\n",
       "    </tr>\n",
       "  </thead>\n",
       "  <tbody>\n",
       "    <tr>\n",
       "      <th>0</th>\n",
       "      <td>2024-06</td>\n",
       "      <td>AUS</td>\n",
       "      <td>-16.00000</td>\n",
       "      <td>1</td>\n",
       "    </tr>\n",
       "    <tr>\n",
       "      <th>1</th>\n",
       "      <td>2024-06</td>\n",
       "      <td>AUT</td>\n",
       "      <td>-12.60000</td>\n",
       "      <td>1</td>\n",
       "    </tr>\n",
       "    <tr>\n",
       "      <th>2</th>\n",
       "      <td>2024-06</td>\n",
       "      <td>BEL</td>\n",
       "      <td>-8.10000</td>\n",
       "      <td>1</td>\n",
       "    </tr>\n",
       "    <tr>\n",
       "      <th>3</th>\n",
       "      <td>2024-06</td>\n",
       "      <td>BGR</td>\n",
       "      <td>-15.50000</td>\n",
       "      <td>1</td>\n",
       "    </tr>\n",
       "    <tr>\n",
       "      <th>4</th>\n",
       "      <td>2024-06</td>\n",
       "      <td>BRA</td>\n",
       "      <td>91.10000</td>\n",
       "      <td>1</td>\n",
       "    </tr>\n",
       "    <tr>\n",
       "      <th>...</th>\n",
       "      <td>...</td>\n",
       "      <td>...</td>\n",
       "      <td>...</td>\n",
       "      <td>...</td>\n",
       "    </tr>\n",
       "    <tr>\n",
       "      <th>184</th>\n",
       "      <td>2024-10</td>\n",
       "      <td>SVK</td>\n",
       "      <td>-21.10000</td>\n",
       "      <td>1</td>\n",
       "    </tr>\n",
       "    <tr>\n",
       "      <th>185</th>\n",
       "      <td>2024-10</td>\n",
       "      <td>SVN</td>\n",
       "      <td>-27.60000</td>\n",
       "      <td>1</td>\n",
       "    </tr>\n",
       "    <tr>\n",
       "      <th>186</th>\n",
       "      <td>2024-10</td>\n",
       "      <td>SWE</td>\n",
       "      <td>0.90000</td>\n",
       "      <td>1</td>\n",
       "    </tr>\n",
       "    <tr>\n",
       "      <th>187</th>\n",
       "      <td>2024-10</td>\n",
       "      <td>TUR</td>\n",
       "      <td>80.60000</td>\n",
       "      <td>1</td>\n",
       "    </tr>\n",
       "    <tr>\n",
       "      <th>188</th>\n",
       "      <td>2024-10</td>\n",
       "      <td>USA</td>\n",
       "      <td>75.85403</td>\n",
       "      <td>1</td>\n",
       "    </tr>\n",
       "  </tbody>\n",
       "</table>\n",
       "<p>189 rows × 4 columns</p>\n",
       "</div>"
      ],
      "text/plain": [
       "    time_period country     value  rows\n",
       "0       2024-06     AUS -16.00000     1\n",
       "1       2024-06     AUT -12.60000     1\n",
       "2       2024-06     BEL  -8.10000     1\n",
       "3       2024-06     BGR -15.50000     1\n",
       "4       2024-06     BRA  91.10000     1\n",
       "..          ...     ...       ...   ...\n",
       "184     2024-10     SVK -21.10000     1\n",
       "185     2024-10     SVN -27.60000     1\n",
       "186     2024-10     SWE   0.90000     1\n",
       "187     2024-10     TUR  80.60000     1\n",
       "188     2024-10     USA  75.85403     1\n",
       "\n",
       "[189 rows x 4 columns]"
      ]
     },
     "execution_count": 79,
     "metadata": {},
     "output_type": "execute_result"
    }
   ],
   "source": [
    "# test for unique values\n",
    "pd.read_sql_query('''\n",
    "SELECT\n",
    "time_period_code as time_period,\n",
    "ref_area as country,\n",
    "obs_value as value,\n",
    "count(*) as rows\n",
    "FROM cci\n",
    "where freq = 'M'\n",
    "and measure_code = 'CCICP'\n",
    "group by 1,2,3\n",
    "order by 4 desc\n",
    "''', conn)"
   ]
  },
  {
   "cell_type": "markdown",
   "metadata": {},
   "source": [
    "### combine the sources into main table"
   ]
  },
  {
   "cell_type": "code",
   "execution_count": null,
   "metadata": {},
   "outputs": [
    {
     "ename": "DatabaseError",
     "evalue": "Execution failed on sql '\ncreate table if not exists main_table as\nwith irlt as (\nselect\ntime_period_code as time_period,\nref_area as country,\nobs_value as irlt\nfrom finance\nwhere freq = 'M'\nand measure_code = 'IRLT'\n),\nshare as (\nselect\ntime_period_code as time_period,\nref_area as country,\nobs_value as share\nfrom finance\nwhere freq = 'M'\nand measure_code = 'SHARE'\n),\nunemp_dt as (\nselect\ntime_period_code as time_period,\nref_area as country,\nobs_value as unemp\nfrom unemp\nwhere freq = 'M'\nand sex_code = '_T'\nand age_code = 'Y_GE25'\nand adjustment_code = 'N'\n),\nwage_dt as (\nselect\ntime_period_code as time_period,\nref_area as country,\nobs_value as wage\nfrom wage\nwhere\nfreq = 'M'\nand adjustment_code = 'N' \n),\ncpi_dt as (\nselect\ntime_period_code as time_period,\nref_area as country,\nobs_value as cpi\nfrom cpi\nwhere\nfreq = 'M'\nand methodology_code = 'N'\nand UNIT_MEASURE = 'PC'\nand adjustment_code = 'N'\nand expenditure_code = '_T'\n),\ncci_dt as (\nselect\ntime_period_code as time_period,\nref_area as country,\nobs_value as cci\nfrom cci\nwhere freq = 'M'\nand measure_code = 'CCICP'\n)\nselect t1.time_period, t1.country, t1.irlt, t2.share, t3.unemp, t4.cpi, t5.cci\nfrom irlt t1\nfull join share t2 on t1.time_period = t2.time_period and t1.country = t2.country\nfull join unemp_dt t3 on t1.time_period = t3.time_period and t1.country = t3.country\nfull join wage_dt t4 on t1.time_period = t4.time_period and t1.country = t4.country\nfull join cpi_dt t5 on t1.time_period = t5.time_period and t1.country = t5.country\nfull join cci_dt t6 on t1.time_period = t6.time_period and t1.country = t6.country\n': no such column: t4.cpi",
     "output_type": "error",
     "traceback": [
      "\u001b[1;31m---------------------------------------------------------------------------\u001b[0m",
      "\u001b[1;31mOperationalError\u001b[0m                          Traceback (most recent call last)",
      "File \u001b[1;32mc:\\Users\\Mark Rozenberg\\LTINT-Forecast\\.venv\\Lib\\site-packages\\pandas\\io\\sql.py:2674\u001b[0m, in \u001b[0;36mSQLiteDatabase.execute\u001b[1;34m(self, sql, params)\u001b[0m\n\u001b[0;32m   2673\u001b[0m \u001b[38;5;28;01mtry\u001b[39;00m:\n\u001b[1;32m-> 2674\u001b[0m     \u001b[43mcur\u001b[49m\u001b[38;5;241;43m.\u001b[39;49m\u001b[43mexecute\u001b[49m\u001b[43m(\u001b[49m\u001b[43msql\u001b[49m\u001b[43m,\u001b[49m\u001b[43m \u001b[49m\u001b[38;5;241;43m*\u001b[39;49m\u001b[43margs\u001b[49m\u001b[43m)\u001b[49m\n\u001b[0;32m   2675\u001b[0m     \u001b[38;5;28;01mreturn\u001b[39;00m cur\n",
      "\u001b[1;31mOperationalError\u001b[0m: no such column: t4.cpi",
      "\nThe above exception was the direct cause of the following exception:\n",
      "\u001b[1;31mDatabaseError\u001b[0m                             Traceback (most recent call last)",
      "Cell \u001b[1;32mIn[83], line 1\u001b[0m\n\u001b[1;32m----> 1\u001b[0m main_table \u001b[38;5;241m=\u001b[39m \u001b[43mpd\u001b[49m\u001b[38;5;241;43m.\u001b[39;49m\u001b[43mread_sql_query\u001b[49m\u001b[43m(\u001b[49m\u001b[38;5;124;43m'''\u001b[39;49m\n\u001b[0;32m      2\u001b[0m \u001b[38;5;124;43mcreate table if not exists main_table as\u001b[39;49m\n\u001b[0;32m      3\u001b[0m \u001b[38;5;124;43mwith irlt as (\u001b[39;49m\n\u001b[0;32m      4\u001b[0m \u001b[38;5;124;43mselect\u001b[39;49m\n\u001b[0;32m      5\u001b[0m \u001b[38;5;124;43mtime_period_code as time_period,\u001b[39;49m\n\u001b[0;32m      6\u001b[0m \u001b[38;5;124;43mref_area as country,\u001b[39;49m\n\u001b[0;32m      7\u001b[0m \u001b[38;5;124;43mobs_value as irlt\u001b[39;49m\n\u001b[0;32m      8\u001b[0m \u001b[38;5;124;43mfrom finance\u001b[39;49m\n\u001b[0;32m      9\u001b[0m \u001b[38;5;124;43mwhere freq = \u001b[39;49m\u001b[38;5;124;43m'\u001b[39;49m\u001b[38;5;124;43mM\u001b[39;49m\u001b[38;5;124;43m'\u001b[39;49m\n\u001b[0;32m     10\u001b[0m \u001b[38;5;124;43mand measure_code = \u001b[39;49m\u001b[38;5;124;43m'\u001b[39;49m\u001b[38;5;124;43mIRLT\u001b[39;49m\u001b[38;5;124;43m'\u001b[39;49m\n\u001b[0;32m     11\u001b[0m \u001b[38;5;124;43m),\u001b[39;49m\n\u001b[0;32m     12\u001b[0m \u001b[38;5;124;43mshare as (\u001b[39;49m\n\u001b[0;32m     13\u001b[0m \u001b[38;5;124;43mselect\u001b[39;49m\n\u001b[0;32m     14\u001b[0m \u001b[38;5;124;43mtime_period_code as time_period,\u001b[39;49m\n\u001b[0;32m     15\u001b[0m \u001b[38;5;124;43mref_area as country,\u001b[39;49m\n\u001b[0;32m     16\u001b[0m \u001b[38;5;124;43mobs_value as share\u001b[39;49m\n\u001b[0;32m     17\u001b[0m \u001b[38;5;124;43mfrom finance\u001b[39;49m\n\u001b[0;32m     18\u001b[0m \u001b[38;5;124;43mwhere freq = \u001b[39;49m\u001b[38;5;124;43m'\u001b[39;49m\u001b[38;5;124;43mM\u001b[39;49m\u001b[38;5;124;43m'\u001b[39;49m\n\u001b[0;32m     19\u001b[0m \u001b[38;5;124;43mand measure_code = \u001b[39;49m\u001b[38;5;124;43m'\u001b[39;49m\u001b[38;5;124;43mSHARE\u001b[39;49m\u001b[38;5;124;43m'\u001b[39;49m\n\u001b[0;32m     20\u001b[0m \u001b[38;5;124;43m),\u001b[39;49m\n\u001b[0;32m     21\u001b[0m \u001b[38;5;124;43munemp_dt as (\u001b[39;49m\n\u001b[0;32m     22\u001b[0m \u001b[38;5;124;43mselect\u001b[39;49m\n\u001b[0;32m     23\u001b[0m \u001b[38;5;124;43mtime_period_code as time_period,\u001b[39;49m\n\u001b[0;32m     24\u001b[0m \u001b[38;5;124;43mref_area as country,\u001b[39;49m\n\u001b[0;32m     25\u001b[0m \u001b[38;5;124;43mobs_value as unemp\u001b[39;49m\n\u001b[0;32m     26\u001b[0m \u001b[38;5;124;43mfrom unemp\u001b[39;49m\n\u001b[0;32m     27\u001b[0m \u001b[38;5;124;43mwhere freq = \u001b[39;49m\u001b[38;5;124;43m'\u001b[39;49m\u001b[38;5;124;43mM\u001b[39;49m\u001b[38;5;124;43m'\u001b[39;49m\n\u001b[0;32m     28\u001b[0m \u001b[38;5;124;43mand sex_code = \u001b[39;49m\u001b[38;5;124;43m'\u001b[39;49m\u001b[38;5;124;43m_T\u001b[39;49m\u001b[38;5;124;43m'\u001b[39;49m\n\u001b[0;32m     29\u001b[0m \u001b[38;5;124;43mand age_code = \u001b[39;49m\u001b[38;5;124;43m'\u001b[39;49m\u001b[38;5;124;43mY_GE25\u001b[39;49m\u001b[38;5;124;43m'\u001b[39;49m\n\u001b[0;32m     30\u001b[0m \u001b[38;5;124;43mand adjustment_code = \u001b[39;49m\u001b[38;5;124;43m'\u001b[39;49m\u001b[38;5;124;43mN\u001b[39;49m\u001b[38;5;124;43m'\u001b[39;49m\n\u001b[0;32m     31\u001b[0m \u001b[38;5;124;43m),\u001b[39;49m\n\u001b[0;32m     32\u001b[0m \u001b[38;5;124;43mwage_dt as (\u001b[39;49m\n\u001b[0;32m     33\u001b[0m \u001b[38;5;124;43mselect\u001b[39;49m\n\u001b[0;32m     34\u001b[0m \u001b[38;5;124;43mtime_period_code as time_period,\u001b[39;49m\n\u001b[0;32m     35\u001b[0m \u001b[38;5;124;43mref_area as country,\u001b[39;49m\n\u001b[0;32m     36\u001b[0m \u001b[38;5;124;43mobs_value as wage\u001b[39;49m\n\u001b[0;32m     37\u001b[0m \u001b[38;5;124;43mfrom wage\u001b[39;49m\n\u001b[0;32m     38\u001b[0m \u001b[38;5;124;43mwhere\u001b[39;49m\n\u001b[0;32m     39\u001b[0m \u001b[38;5;124;43mfreq = \u001b[39;49m\u001b[38;5;124;43m'\u001b[39;49m\u001b[38;5;124;43mM\u001b[39;49m\u001b[38;5;124;43m'\u001b[39;49m\n\u001b[0;32m     40\u001b[0m \u001b[38;5;124;43mand adjustment_code = \u001b[39;49m\u001b[38;5;124;43m'\u001b[39;49m\u001b[38;5;124;43mN\u001b[39;49m\u001b[38;5;124;43m'\u001b[39;49m\u001b[38;5;124;43m \u001b[39;49m\n\u001b[0;32m     41\u001b[0m \u001b[38;5;124;43m),\u001b[39;49m\n\u001b[0;32m     42\u001b[0m \u001b[38;5;124;43mcpi_dt as (\u001b[39;49m\n\u001b[0;32m     43\u001b[0m \u001b[38;5;124;43mselect\u001b[39;49m\n\u001b[0;32m     44\u001b[0m \u001b[38;5;124;43mtime_period_code as time_period,\u001b[39;49m\n\u001b[0;32m     45\u001b[0m \u001b[38;5;124;43mref_area as country,\u001b[39;49m\n\u001b[0;32m     46\u001b[0m \u001b[38;5;124;43mobs_value as cpi\u001b[39;49m\n\u001b[0;32m     47\u001b[0m \u001b[38;5;124;43mfrom cpi\u001b[39;49m\n\u001b[0;32m     48\u001b[0m \u001b[38;5;124;43mwhere\u001b[39;49m\n\u001b[0;32m     49\u001b[0m \u001b[38;5;124;43mfreq = \u001b[39;49m\u001b[38;5;124;43m'\u001b[39;49m\u001b[38;5;124;43mM\u001b[39;49m\u001b[38;5;124;43m'\u001b[39;49m\n\u001b[0;32m     50\u001b[0m \u001b[38;5;124;43mand methodology_code = \u001b[39;49m\u001b[38;5;124;43m'\u001b[39;49m\u001b[38;5;124;43mN\u001b[39;49m\u001b[38;5;124;43m'\u001b[39;49m\n\u001b[0;32m     51\u001b[0m \u001b[38;5;124;43mand UNIT_MEASURE = \u001b[39;49m\u001b[38;5;124;43m'\u001b[39;49m\u001b[38;5;124;43mPC\u001b[39;49m\u001b[38;5;124;43m'\u001b[39;49m\n\u001b[0;32m     52\u001b[0m \u001b[38;5;124;43mand adjustment_code = \u001b[39;49m\u001b[38;5;124;43m'\u001b[39;49m\u001b[38;5;124;43mN\u001b[39;49m\u001b[38;5;124;43m'\u001b[39;49m\n\u001b[0;32m     53\u001b[0m \u001b[38;5;124;43mand expenditure_code = \u001b[39;49m\u001b[38;5;124;43m'\u001b[39;49m\u001b[38;5;124;43m_T\u001b[39;49m\u001b[38;5;124;43m'\u001b[39;49m\n\u001b[0;32m     54\u001b[0m \u001b[38;5;124;43m),\u001b[39;49m\n\u001b[0;32m     55\u001b[0m \u001b[38;5;124;43mcci_dt as (\u001b[39;49m\n\u001b[0;32m     56\u001b[0m \u001b[38;5;124;43mselect\u001b[39;49m\n\u001b[0;32m     57\u001b[0m \u001b[38;5;124;43mtime_period_code as time_period,\u001b[39;49m\n\u001b[0;32m     58\u001b[0m \u001b[38;5;124;43mref_area as country,\u001b[39;49m\n\u001b[0;32m     59\u001b[0m \u001b[38;5;124;43mobs_value as cci\u001b[39;49m\n\u001b[0;32m     60\u001b[0m \u001b[38;5;124;43mfrom cci\u001b[39;49m\n\u001b[0;32m     61\u001b[0m \u001b[38;5;124;43mwhere freq = \u001b[39;49m\u001b[38;5;124;43m'\u001b[39;49m\u001b[38;5;124;43mM\u001b[39;49m\u001b[38;5;124;43m'\u001b[39;49m\n\u001b[0;32m     62\u001b[0m \u001b[38;5;124;43mand measure_code = \u001b[39;49m\u001b[38;5;124;43m'\u001b[39;49m\u001b[38;5;124;43mCCICP\u001b[39;49m\u001b[38;5;124;43m'\u001b[39;49m\n\u001b[0;32m     63\u001b[0m \u001b[38;5;124;43m)\u001b[39;49m\n\u001b[0;32m     64\u001b[0m \u001b[38;5;124;43mselect t1.time_period, t1.country, t1.irlt, t2.share, t3.unemp, t4.cpi, t5.cci\u001b[39;49m\n\u001b[0;32m     65\u001b[0m \u001b[38;5;124;43mfrom irlt t1\u001b[39;49m\n\u001b[0;32m     66\u001b[0m \u001b[38;5;124;43mfull join share t2 on t1.time_period = t2.time_period and t1.country = t2.country\u001b[39;49m\n\u001b[0;32m     67\u001b[0m \u001b[38;5;124;43mfull join unemp_dt t3 on t1.time_period = t3.time_period and t1.country = t3.country\u001b[39;49m\n\u001b[0;32m     68\u001b[0m \u001b[38;5;124;43mfull join wage_dt t4 on t1.time_period = t4.time_period and t1.country = t4.country\u001b[39;49m\n\u001b[0;32m     69\u001b[0m \u001b[38;5;124;43mfull join cpi_dt t5 on t1.time_period = t5.time_period and t1.country = t5.country\u001b[39;49m\n\u001b[0;32m     70\u001b[0m \u001b[38;5;124;43mfull join cci_dt t6 on t1.time_period = t6.time_period and t1.country = t6.country\u001b[39;49m\n\u001b[0;32m     71\u001b[0m \u001b[38;5;124;43m'''\u001b[39;49m\u001b[43m,\u001b[49m\u001b[43m \u001b[49m\u001b[43mconn\u001b[49m\u001b[43m)\u001b[49m\n",
      "File \u001b[1;32mc:\\Users\\Mark Rozenberg\\LTINT-Forecast\\.venv\\Lib\\site-packages\\pandas\\io\\sql.py:526\u001b[0m, in \u001b[0;36mread_sql_query\u001b[1;34m(sql, con, index_col, coerce_float, params, parse_dates, chunksize, dtype, dtype_backend)\u001b[0m\n\u001b[0;32m    523\u001b[0m \u001b[38;5;28;01massert\u001b[39;00m dtype_backend \u001b[38;5;129;01mis\u001b[39;00m \u001b[38;5;129;01mnot\u001b[39;00m lib\u001b[38;5;241m.\u001b[39mno_default\n\u001b[0;32m    525\u001b[0m \u001b[38;5;28;01mwith\u001b[39;00m pandasSQL_builder(con) \u001b[38;5;28;01mas\u001b[39;00m pandas_sql:\n\u001b[1;32m--> 526\u001b[0m     \u001b[38;5;28;01mreturn\u001b[39;00m \u001b[43mpandas_sql\u001b[49m\u001b[38;5;241;43m.\u001b[39;49m\u001b[43mread_query\u001b[49m\u001b[43m(\u001b[49m\n\u001b[0;32m    527\u001b[0m \u001b[43m        \u001b[49m\u001b[43msql\u001b[49m\u001b[43m,\u001b[49m\n\u001b[0;32m    528\u001b[0m \u001b[43m        \u001b[49m\u001b[43mindex_col\u001b[49m\u001b[38;5;241;43m=\u001b[39;49m\u001b[43mindex_col\u001b[49m\u001b[43m,\u001b[49m\n\u001b[0;32m    529\u001b[0m \u001b[43m        \u001b[49m\u001b[43mparams\u001b[49m\u001b[38;5;241;43m=\u001b[39;49m\u001b[43mparams\u001b[49m\u001b[43m,\u001b[49m\n\u001b[0;32m    530\u001b[0m \u001b[43m        \u001b[49m\u001b[43mcoerce_float\u001b[49m\u001b[38;5;241;43m=\u001b[39;49m\u001b[43mcoerce_float\u001b[49m\u001b[43m,\u001b[49m\n\u001b[0;32m    531\u001b[0m \u001b[43m        \u001b[49m\u001b[43mparse_dates\u001b[49m\u001b[38;5;241;43m=\u001b[39;49m\u001b[43mparse_dates\u001b[49m\u001b[43m,\u001b[49m\n\u001b[0;32m    532\u001b[0m \u001b[43m        \u001b[49m\u001b[43mchunksize\u001b[49m\u001b[38;5;241;43m=\u001b[39;49m\u001b[43mchunksize\u001b[49m\u001b[43m,\u001b[49m\n\u001b[0;32m    533\u001b[0m \u001b[43m        \u001b[49m\u001b[43mdtype\u001b[49m\u001b[38;5;241;43m=\u001b[39;49m\u001b[43mdtype\u001b[49m\u001b[43m,\u001b[49m\n\u001b[0;32m    534\u001b[0m \u001b[43m        \u001b[49m\u001b[43mdtype_backend\u001b[49m\u001b[38;5;241;43m=\u001b[39;49m\u001b[43mdtype_backend\u001b[49m\u001b[43m,\u001b[49m\n\u001b[0;32m    535\u001b[0m \u001b[43m    \u001b[49m\u001b[43m)\u001b[49m\n",
      "File \u001b[1;32mc:\\Users\\Mark Rozenberg\\LTINT-Forecast\\.venv\\Lib\\site-packages\\pandas\\io\\sql.py:2738\u001b[0m, in \u001b[0;36mSQLiteDatabase.read_query\u001b[1;34m(self, sql, index_col, coerce_float, parse_dates, params, chunksize, dtype, dtype_backend)\u001b[0m\n\u001b[0;32m   2727\u001b[0m \u001b[38;5;28;01mdef\u001b[39;00m \u001b[38;5;21mread_query\u001b[39m(\n\u001b[0;32m   2728\u001b[0m     \u001b[38;5;28mself\u001b[39m,\n\u001b[0;32m   2729\u001b[0m     sql,\n\u001b[1;32m   (...)\u001b[0m\n\u001b[0;32m   2736\u001b[0m     dtype_backend: DtypeBackend \u001b[38;5;241m|\u001b[39m Literal[\u001b[38;5;124m\"\u001b[39m\u001b[38;5;124mnumpy\u001b[39m\u001b[38;5;124m\"\u001b[39m] \u001b[38;5;241m=\u001b[39m \u001b[38;5;124m\"\u001b[39m\u001b[38;5;124mnumpy\u001b[39m\u001b[38;5;124m\"\u001b[39m,\n\u001b[0;32m   2737\u001b[0m ) \u001b[38;5;241m-\u001b[39m\u001b[38;5;241m>\u001b[39m DataFrame \u001b[38;5;241m|\u001b[39m Iterator[DataFrame]:\n\u001b[1;32m-> 2738\u001b[0m     cursor \u001b[38;5;241m=\u001b[39m \u001b[38;5;28;43mself\u001b[39;49m\u001b[38;5;241;43m.\u001b[39;49m\u001b[43mexecute\u001b[49m\u001b[43m(\u001b[49m\u001b[43msql\u001b[49m\u001b[43m,\u001b[49m\u001b[43m \u001b[49m\u001b[43mparams\u001b[49m\u001b[43m)\u001b[49m\n\u001b[0;32m   2739\u001b[0m     columns \u001b[38;5;241m=\u001b[39m [col_desc[\u001b[38;5;241m0\u001b[39m] \u001b[38;5;28;01mfor\u001b[39;00m col_desc \u001b[38;5;129;01min\u001b[39;00m cursor\u001b[38;5;241m.\u001b[39mdescription]\n\u001b[0;32m   2741\u001b[0m     \u001b[38;5;28;01mif\u001b[39;00m chunksize \u001b[38;5;129;01mis\u001b[39;00m \u001b[38;5;129;01mnot\u001b[39;00m \u001b[38;5;28;01mNone\u001b[39;00m:\n",
      "File \u001b[1;32mc:\\Users\\Mark Rozenberg\\LTINT-Forecast\\.venv\\Lib\\site-packages\\pandas\\io\\sql.py:2686\u001b[0m, in \u001b[0;36mSQLiteDatabase.execute\u001b[1;34m(self, sql, params)\u001b[0m\n\u001b[0;32m   2683\u001b[0m     \u001b[38;5;28;01mraise\u001b[39;00m ex \u001b[38;5;28;01mfrom\u001b[39;00m \u001b[38;5;21;01minner_exc\u001b[39;00m\n\u001b[0;32m   2685\u001b[0m ex \u001b[38;5;241m=\u001b[39m DatabaseError(\u001b[38;5;124mf\u001b[39m\u001b[38;5;124m\"\u001b[39m\u001b[38;5;124mExecution failed on sql \u001b[39m\u001b[38;5;124m'\u001b[39m\u001b[38;5;132;01m{\u001b[39;00msql\u001b[38;5;132;01m}\u001b[39;00m\u001b[38;5;124m'\u001b[39m\u001b[38;5;124m: \u001b[39m\u001b[38;5;132;01m{\u001b[39;00mexc\u001b[38;5;132;01m}\u001b[39;00m\u001b[38;5;124m\"\u001b[39m)\n\u001b[1;32m-> 2686\u001b[0m \u001b[38;5;28;01mraise\u001b[39;00m ex \u001b[38;5;28;01mfrom\u001b[39;00m \u001b[38;5;21;01mexc\u001b[39;00m\n",
      "\u001b[1;31mDatabaseError\u001b[0m: Execution failed on sql '\ncreate table if not exists main_table as\nwith irlt as (\nselect\ntime_period_code as time_period,\nref_area as country,\nobs_value as irlt\nfrom finance\nwhere freq = 'M'\nand measure_code = 'IRLT'\n),\nshare as (\nselect\ntime_period_code as time_period,\nref_area as country,\nobs_value as share\nfrom finance\nwhere freq = 'M'\nand measure_code = 'SHARE'\n),\nunemp_dt as (\nselect\ntime_period_code as time_period,\nref_area as country,\nobs_value as unemp\nfrom unemp\nwhere freq = 'M'\nand sex_code = '_T'\nand age_code = 'Y_GE25'\nand adjustment_code = 'N'\n),\nwage_dt as (\nselect\ntime_period_code as time_period,\nref_area as country,\nobs_value as wage\nfrom wage\nwhere\nfreq = 'M'\nand adjustment_code = 'N' \n),\ncpi_dt as (\nselect\ntime_period_code as time_period,\nref_area as country,\nobs_value as cpi\nfrom cpi\nwhere\nfreq = 'M'\nand methodology_code = 'N'\nand UNIT_MEASURE = 'PC'\nand adjustment_code = 'N'\nand expenditure_code = '_T'\n),\ncci_dt as (\nselect\ntime_period_code as time_period,\nref_area as country,\nobs_value as cci\nfrom cci\nwhere freq = 'M'\nand measure_code = 'CCICP'\n)\nselect t1.time_period, t1.country, t1.irlt, t2.share, t3.unemp, t4.cpi, t5.cci\nfrom irlt t1\nfull join share t2 on t1.time_period = t2.time_period and t1.country = t2.country\nfull join unemp_dt t3 on t1.time_period = t3.time_period and t1.country = t3.country\nfull join wage_dt t4 on t1.time_period = t4.time_period and t1.country = t4.country\nfull join cpi_dt t5 on t1.time_period = t5.time_period and t1.country = t5.country\nfull join cci_dt t6 on t1.time_period = t6.time_period and t1.country = t6.country\n': no such column: t4.cpi"
     ]
    }
   ],
   "source": [
    "main_table = pd.read_sql_query('''\n",
    "create table if not exists main_table as\n",
    "with irlt as (\n",
    "select\n",
    "time_period_code as time_period,\n",
    "ref_area as country,\n",
    "obs_value as irlt\n",
    "from finance\n",
    "where freq = 'M'\n",
    "and measure_code = 'IRLT'\n",
    "),\n",
    "share as (\n",
    "select\n",
    "time_period_code as time_period,\n",
    "ref_area as country,\n",
    "obs_value as share\n",
    "from finance\n",
    "where freq = 'M'\n",
    "and measure_code = 'SHARE'\n",
    "),\n",
    "unemp_dt as (\n",
    "select\n",
    "time_period_code as time_period,\n",
    "ref_area as country,\n",
    "obs_value as unemp\n",
    "from unemp\n",
    "where freq = 'M'\n",
    "and sex_code = '_T'\n",
    "and age_code = 'Y_GE25'\n",
    "and adjustment_code = 'N'\n",
    "),\n",
    "wage_dt as (\n",
    "select\n",
    "time_period_code as time_period,\n",
    "ref_area as country,\n",
    "obs_value as wage\n",
    "from wage\n",
    "where\n",
    "freq = 'M'\n",
    "and adjustment_code = 'N' \n",
    "),\n",
    "cpi_dt as (\n",
    "select\n",
    "time_period_code as time_period,\n",
    "ref_area as country,\n",
    "obs_value as cpi\n",
    "from cpi\n",
    "where\n",
    "freq = 'M'\n",
    "and methodology_code = 'N'\n",
    "and UNIT_MEASURE = 'PC'\n",
    "and adjustment_code = 'N'\n",
    "and expenditure_code = '_T'\n",
    "),\n",
    "cci_dt as (\n",
    "select\n",
    "time_period_code as time_period,\n",
    "ref_area as country,\n",
    "obs_value as cci\n",
    "from cci\n",
    "where freq = 'M'\n",
    "and measure_code = 'CCICP'\n",
    ")\n",
    "select t1.time_period, t1.country, t1.irlt, t2.share, t3.unemp, t4.wage, t5.cpi, t6.cci\n",
    "from irlt t1\n",
    "full join share t2 on t1.time_period = t2.time_period and t1.country = t2.country\n",
    "full join unemp_dt t3 on t1.time_period = t3.time_period and t1.country = t3.country\n",
    "full join wage_dt t4 on t1.time_period = t4.time_period and t1.country = t4.country\n",
    "full join cpi_dt t5 on t1.time_period = t5.time_period and t1.country = t5.country\n",
    "full join cci_dt t6 on t1.time_period = t6.time_period and t1.country = t6.country\n",
    "''', conn)"
   ]
  }
 ],
 "metadata": {
  "kernelspec": {
   "display_name": ".venv",
   "language": "python",
   "name": "python3"
  },
  "language_info": {
   "codemirror_mode": {
    "name": "ipython",
    "version": 3
   },
   "file_extension": ".py",
   "mimetype": "text/x-python",
   "name": "python",
   "nbconvert_exporter": "python",
   "pygments_lexer": "ipython3",
   "version": "3.12.6"
  }
 },
 "nbformat": 4,
 "nbformat_minor": 2
}
