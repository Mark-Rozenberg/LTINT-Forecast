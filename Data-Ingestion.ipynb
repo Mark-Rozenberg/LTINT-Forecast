{
 "cells": [
  {
   "cell_type": "code",
   "execution_count": 6,
   "metadata": {},
   "outputs": [],
   "source": [
    "import pandas as pd\n",
    "import requests\n",
    "import io\n",
    "import sqlite3"
   ]
  },
  {
   "cell_type": "code",
   "execution_count": 25,
   "metadata": {},
   "outputs": [],
   "source": [
    "ts = '2000-01'\n",
    "# qs = '2024-Q1'\n",
    "# data links\n",
    "wage_url = 'https://sdmx.oecd.org/public/rest/data/OECD.SDD.TPS,DSD_EAR@DF_HOU_EAR,1.0/all?startPeriod=' + ts + '&dimensionAtObservation=AllDimensions&format=csvfilewithlabels'\n",
    "unemp_url = 'https://sdmx.oecd.org/public/rest/data/OECD.SDD.TPS,DSD_LFS@DF_IALFS_UNE_M,1.0/all?startPeriod=' + ts + '&dimensionAtObservation=AllDimensions&format=csvfilewithlabels'\n",
    "finance_url = 'https://sdmx.oecd.org/public/rest/data/OECD.SDD.STES,DSD_STES@DF_FINMARK,4.0/all?startPeriod=' + ts + '&dimensionAtObservation=AllDimensions&format=csvfilewithlabels'\n",
    "# prod_url = 'https://sdmx.oecd.org/public/rest/data/OECD.SDD.TPS,DSD_PDB@DF_PDB_ULC_Q,1.0/.Q.......?startPeriod=' + qs + '&dimensionAtObservation=AllDimensions&format=csvfilewithlabels'\n",
    "cpi_url = 'https://sdmx.oecd.org/public/rest/data/OECD.SDD.TPS,DSD_PRICES@DF_PRICES_ALL,1.0/all?startPeriod=' + ts + '&dimensionAtObservation=AllDimensions&format=csvfilewithlabels'\n",
    "cci_url = 'https://sdmx.oecd.org/public/rest/data/OECD.SDD.STES,DSD_STES@DF_CS,4.0/all?startPeriod=' + ts + '&dimensionAtObservation=AllDimensions&format=csvfilewithlabels'"
   ]
  },
  {
   "cell_type": "code",
   "execution_count": 12,
   "metadata": {},
   "outputs": [],
   "source": [
    "conn = sqlite3.connect('/Users/Mark Rozenberg/Downloads/Macro-Indicators/macro_indicators_v2.db')"
   ]
  },
  {
   "cell_type": "markdown",
   "metadata": {},
   "source": [
    "### Wages"
   ]
  },
  {
   "cell_type": "code",
   "execution_count": 5,
   "metadata": {},
   "outputs": [],
   "source": [
    "# Read the data from wage_url\n",
    "wage_data = pd.read_csv(io.StringIO(requests.get(wage_url).content.decode('utf-8')), header=0)\n",
    "\n",
    "wage_data = wage_data.loc[(wage_data['FREQ'] == 'M') & (wage_data['ADJUSTMENT'] == 'N'), ['REF_AREA', 'TIME_PERIOD', 'OBS_VALUE']]\n",
    "# Save the data to a table in the database\n",
    "for index, row in wage_data.iterrows():\n",
    "    conn.execute('''\n",
    "    INSERT INTO wage (country, time_period, wage)\n",
    "    VALUES (?, ?, ?)\n",
    "    ON CONFLICT(country, time_period) DO UPDATE SET\n",
    "    wage=excluded.wage\n",
    "    ''', (row['REF_AREA'], row['TIME_PERIOD'], row['OBS_VALUE']))\n",
    "conn.commit()\n"
   ]
  },
  {
   "cell_type": "markdown",
   "metadata": {},
   "source": [
    "### Finance: IRLT + Shares"
   ]
  },
  {
   "cell_type": "code",
   "execution_count": 9,
   "metadata": {},
   "outputs": [],
   "source": [
    "finance_data = pd.read_csv(io.StringIO(requests.get(finance_url).content.decode('utf-8')), header=0)"
   ]
  },
  {
   "cell_type": "code",
   "execution_count": 7,
   "metadata": {},
   "outputs": [],
   "source": [
    "irlt_data = finance_data.loc[(finance_data['FREQ'] == 'M') & (finance_data['MEASURE'] == 'IRLT'), ['REF_AREA', 'TIME_PERIOD', 'OBS_VALUE']]\n",
    "# Save the data to a table in the database\n",
    "for index, row in irlt_data.iterrows():\n",
    "    conn.execute('''\n",
    "    INSERT INTO irlt (country, time_period, irlt)\n",
    "    VALUES (?, ?, ?)\n",
    "    ON CONFLICT(country, time_period) DO UPDATE SET\n",
    "    irlt=excluded.irlt\n",
    "    ''', (row['REF_AREA'], row['TIME_PERIOD'], row['OBS_VALUE']))\n",
    "conn.commit()"
   ]
  },
  {
   "cell_type": "code",
   "execution_count": 13,
   "metadata": {},
   "outputs": [],
   "source": [
    "conn.execute(''' drop table if exists unemp ''')\n",
    "conn.commit()"
   ]
  },
  {
   "cell_type": "code",
   "execution_count": 12,
   "metadata": {},
   "outputs": [],
   "source": [
    "share_data = finance_data.loc[(finance_data['FREQ'] == 'M') & (finance_data['MEASURE'] == 'SHARE'), ['REF_AREA', 'TIME_PERIOD', 'OBS_VALUE']]\n",
    "# Save the data to a table in the database\n",
    "for index, row in share_data.iterrows():\n",
    "    conn.execute('''\n",
    "    INSERT INTO share (country, time_period, share)\n",
    "    VALUES (?, ?, ?)\n",
    "    ON CONFLICT(country, time_period) DO UPDATE SET\n",
    "    share=excluded.share\n",
    "    ''', (row['REF_AREA'], row['TIME_PERIOD'], row['OBS_VALUE']))\n",
    "conn.commit()"
   ]
  },
  {
   "cell_type": "markdown",
   "metadata": {},
   "source": [
    "### Unemployment"
   ]
  },
  {
   "cell_type": "code",
   "execution_count": 14,
   "metadata": {},
   "outputs": [],
   "source": [
    "unemp_data = pd.read_csv(io.StringIO(requests.get(unemp_url).content.decode('utf-8')), header=0)\n",
    "unemp_data = unemp_data.loc[\\\n",
    " (unemp_data['FREQ'] == 'M') &\\\n",
    " (unemp_data['ADJUSTMENT'] == 'N') &\\\n",
    " (unemp_data['SEX'] == '_T') &\\\n",
    " (unemp_data['AGE'] == 'Y_GE25') ,\\\n",
    " ['REF_AREA', 'TIME_PERIOD', 'OBS_VALUE']]\n",
    "# Save the data to a table in the database\n",
    "for index, row in unemp_data.iterrows():\n",
    "    conn.execute('''\n",
    "    INSERT INTO unemp (country, time_period, unemp)\n",
    "    VALUES (?, ?, ?)\n",
    "    ON CONFLICT(country, time_period) DO UPDATE SET\n",
    "    unemp=excluded.unemp\n",
    "    ''', (row['REF_AREA'], row['TIME_PERIOD'], row['OBS_VALUE']))\n",
    "conn.commit()"
   ]
  },
  {
   "cell_type": "markdown",
   "metadata": {},
   "source": [
    "### Prices"
   ]
  },
  {
   "cell_type": "code",
   "execution_count": 26,
   "metadata": {},
   "outputs": [],
   "source": [
    "cpi_data = pd.read_csv(io.StringIO(requests.get(cpi_url).content.decode('utf-8')), header=0)\n",
    "cpi_data = cpi_data.loc[\\\n",
    " (cpi_data['FREQ'] == 'M') &\\\n",
    " (cpi_data['ADJUSTMENT'] == 'N') &\\\n",
    " (cpi_data['METHODOLOGY'] == 'N') &\\\n",
    " (cpi_data['EXPENDITURE'] == '_T') &\\\n",
    " (cpi_data['UNIT_MEASURE'] == 'PA') ,\\\n",
    " ['REF_AREA', 'TIME_PERIOD', 'OBS_VALUE']]\n",
    "# Save the data to a table in the database\n",
    "for index, row in cpi_data.iterrows():\n",
    "    conn.execute('''\n",
    "    INSERT INTO cpi (country, time_period, cpi)\n",
    "    VALUES (?, ?, ?)\n",
    "    ON CONFLICT(country, time_period) DO UPDATE SET\n",
    "    cpi=excluded.cpi\n",
    "    ''', (row['REF_AREA'], row['TIME_PERIOD'], row['OBS_VALUE']))\n",
    "conn.commit()"
   ]
  },
  {
   "cell_type": "markdown",
   "metadata": {},
   "source": [
    "### Consumer confidence"
   ]
  },
  {
   "cell_type": "code",
   "execution_count": 11,
   "metadata": {},
   "outputs": [],
   "source": [
    "cci_data = pd.read_csv(io.StringIO(requests.get(cci_url).content.decode('utf-8')), header=0)\n",
    "cci_data = cci_data.loc[\\\n",
    " (cci_data['FREQ'] == 'M') &\\\n",
    " (cci_data['MEASURE'] == 'CCICP') ,\\\n",
    " ['REF_AREA', 'TIME_PERIOD', 'OBS_VALUE']]\n",
    "# Save the data to a table in the database\n",
    "for index, row in cci_data.iterrows():\n",
    "    conn.execute('''\n",
    "    INSERT INTO cci (country, time_period, cci)\n",
    "    VALUES (?, ?, ?)\n",
    "    ON CONFLICT(country, time_period) DO UPDATE SET\n",
    "    cci=excluded.cci\n",
    "    ''', (row['REF_AREA'], row['TIME_PERIOD'], row['OBS_VALUE']))\n",
    "conn.commit()"
   ]
  },
  {
   "cell_type": "markdown",
   "metadata": {},
   "source": [
    "### check and tests:"
   ]
  },
  {
   "cell_type": "code",
   "execution_count": 12,
   "metadata": {},
   "outputs": [
    {
     "data": {
      "text/html": [
       "<div>\n",
       "<style scoped>\n",
       "    .dataframe tbody tr th:only-of-type {\n",
       "        vertical-align: middle;\n",
       "    }\n",
       "\n",
       "    .dataframe tbody tr th {\n",
       "        vertical-align: top;\n",
       "    }\n",
       "\n",
       "    .dataframe thead th {\n",
       "        text-align: right;\n",
       "    }\n",
       "</style>\n",
       "<table border=\"1\" class=\"dataframe\">\n",
       "  <thead>\n",
       "    <tr style=\"text-align: right;\">\n",
       "      <th></th>\n",
       "      <th>name</th>\n",
       "    </tr>\n",
       "  </thead>\n",
       "  <tbody>\n",
       "    <tr>\n",
       "      <th>0</th>\n",
       "      <td>wage</td>\n",
       "    </tr>\n",
       "    <tr>\n",
       "      <th>1</th>\n",
       "      <td>irlt</td>\n",
       "    </tr>\n",
       "    <tr>\n",
       "      <th>2</th>\n",
       "      <td>share</td>\n",
       "    </tr>\n",
       "    <tr>\n",
       "      <th>3</th>\n",
       "      <td>unemp</td>\n",
       "    </tr>\n",
       "    <tr>\n",
       "      <th>4</th>\n",
       "      <td>cpi</td>\n",
       "    </tr>\n",
       "    <tr>\n",
       "      <th>5</th>\n",
       "      <td>cci</td>\n",
       "    </tr>\n",
       "    <tr>\n",
       "      <th>6</th>\n",
       "      <td>main_table</td>\n",
       "    </tr>\n",
       "  </tbody>\n",
       "</table>\n",
       "</div>"
      ],
      "text/plain": [
       "         name\n",
       "0        wage\n",
       "1        irlt\n",
       "2       share\n",
       "3       unemp\n",
       "4         cpi\n",
       "5         cci\n",
       "6  main_table"
      ]
     },
     "execution_count": 12,
     "metadata": {},
     "output_type": "execute_result"
    }
   ],
   "source": [
    "# Query to list all tables in the database\n",
    "pd.read_sql_query('''SELECT name FROM sqlite_master WHERE type='table';''', conn)"
   ]
  },
  {
   "cell_type": "markdown",
   "metadata": {},
   "source": [
    "### test - number of entries for each period and each variable"
   ]
  },
  {
   "cell_type": "code",
   "execution_count": 15,
   "metadata": {},
   "outputs": [
    {
     "data": {
      "text/html": [
       "<div>\n",
       "<style scoped>\n",
       "    .dataframe tbody tr th:only-of-type {\n",
       "        vertical-align: middle;\n",
       "    }\n",
       "\n",
       "    .dataframe tbody tr th {\n",
       "        vertical-align: top;\n",
       "    }\n",
       "\n",
       "    .dataframe thead th {\n",
       "        text-align: right;\n",
       "    }\n",
       "</style>\n",
       "<table border=\"1\" class=\"dataframe\">\n",
       "  <thead>\n",
       "    <tr style=\"text-align: right;\">\n",
       "      <th></th>\n",
       "      <th>time_period</th>\n",
       "      <th>wage</th>\n",
       "      <th>irlt</th>\n",
       "      <th>share</th>\n",
       "      <th>unemp</th>\n",
       "      <th>cpi</th>\n",
       "      <th>cci</th>\n",
       "    </tr>\n",
       "  </thead>\n",
       "  <tbody>\n",
       "    <tr>\n",
       "      <th>0</th>\n",
       "      <td>2024-10</td>\n",
       "      <td>1</td>\n",
       "      <td>45</td>\n",
       "      <td>48</td>\n",
       "      <td>37</td>\n",
       "      <td>47</td>\n",
       "      <td>37</td>\n",
       "    </tr>\n",
       "    <tr>\n",
       "      <th>1</th>\n",
       "      <td>2024-09</td>\n",
       "      <td>6</td>\n",
       "      <td>45</td>\n",
       "      <td>48</td>\n",
       "      <td>41</td>\n",
       "      <td>47</td>\n",
       "      <td>39</td>\n",
       "    </tr>\n",
       "    <tr>\n",
       "      <th>2</th>\n",
       "      <td>2024-08</td>\n",
       "      <td>8</td>\n",
       "      <td>45</td>\n",
       "      <td>48</td>\n",
       "      <td>41</td>\n",
       "      <td>47</td>\n",
       "      <td>39</td>\n",
       "    </tr>\n",
       "    <tr>\n",
       "      <th>3</th>\n",
       "      <td>2024-07</td>\n",
       "      <td>13</td>\n",
       "      <td>45</td>\n",
       "      <td>48</td>\n",
       "      <td>41</td>\n",
       "      <td>48</td>\n",
       "      <td>39</td>\n",
       "    </tr>\n",
       "    <tr>\n",
       "      <th>4</th>\n",
       "      <td>2024-06</td>\n",
       "      <td>14</td>\n",
       "      <td>44</td>\n",
       "      <td>48</td>\n",
       "      <td>41</td>\n",
       "      <td>48</td>\n",
       "      <td>39</td>\n",
       "    </tr>\n",
       "    <tr>\n",
       "      <th>...</th>\n",
       "      <td>...</td>\n",
       "      <td>...</td>\n",
       "      <td>...</td>\n",
       "      <td>...</td>\n",
       "      <td>...</td>\n",
       "      <td>...</td>\n",
       "      <td>...</td>\n",
       "    </tr>\n",
       "    <tr>\n",
       "      <th>293</th>\n",
       "      <td>2000-05</td>\n",
       "      <td>15</td>\n",
       "      <td>30</td>\n",
       "      <td>47</td>\n",
       "      <td>33</td>\n",
       "      <td>51</td>\n",
       "      <td>27</td>\n",
       "    </tr>\n",
       "    <tr>\n",
       "      <th>294</th>\n",
       "      <td>2000-04</td>\n",
       "      <td>15</td>\n",
       "      <td>30</td>\n",
       "      <td>47</td>\n",
       "      <td>33</td>\n",
       "      <td>51</td>\n",
       "      <td>27</td>\n",
       "    </tr>\n",
       "    <tr>\n",
       "      <th>295</th>\n",
       "      <td>2000-03</td>\n",
       "      <td>15</td>\n",
       "      <td>29</td>\n",
       "      <td>47</td>\n",
       "      <td>33</td>\n",
       "      <td>51</td>\n",
       "      <td>28</td>\n",
       "    </tr>\n",
       "    <tr>\n",
       "      <th>296</th>\n",
       "      <td>2000-02</td>\n",
       "      <td>15</td>\n",
       "      <td>29</td>\n",
       "      <td>47</td>\n",
       "      <td>33</td>\n",
       "      <td>51</td>\n",
       "      <td>28</td>\n",
       "    </tr>\n",
       "    <tr>\n",
       "      <th>297</th>\n",
       "      <td>2000-01</td>\n",
       "      <td>15</td>\n",
       "      <td>29</td>\n",
       "      <td>47</td>\n",
       "      <td>33</td>\n",
       "      <td>51</td>\n",
       "      <td>28</td>\n",
       "    </tr>\n",
       "  </tbody>\n",
       "</table>\n",
       "<p>298 rows × 7 columns</p>\n",
       "</div>"
      ],
      "text/plain": [
       "    time_period  wage  irlt  share  unemp  cpi  cci\n",
       "0       2024-10     1    45     48     37   47   37\n",
       "1       2024-09     6    45     48     41   47   39\n",
       "2       2024-08     8    45     48     41   47   39\n",
       "3       2024-07    13    45     48     41   48   39\n",
       "4       2024-06    14    44     48     41   48   39\n",
       "..          ...   ...   ...    ...    ...  ...  ...\n",
       "293     2000-05    15    30     47     33   51   27\n",
       "294     2000-04    15    30     47     33   51   27\n",
       "295     2000-03    15    29     47     33   51   28\n",
       "296     2000-02    15    29     47     33   51   28\n",
       "297     2000-01    15    29     47     33   51   28\n",
       "\n",
       "[298 rows x 7 columns]"
      ]
     },
     "execution_count": 15,
     "metadata": {},
     "output_type": "execute_result"
    }
   ],
   "source": [
    "pd.read_sql_query('''\n",
    "with\n",
    "part1 as(SELECT time_period, count(*) as wage FROM wage group by 1),\n",
    "part2 as(SELECT time_period, count(*) as irlt FROM irlt group by 1),\n",
    "part3 as(SELECT time_period, count(*) as share FROM share group by 1),\n",
    "part4 as(SELECT time_period, count(*) as unemp FROM unemp group by 1),\n",
    "part5 as(SELECT time_period, count(*) as cpi FROM cpi group by 1),\n",
    "part6 as(SELECT time_period, count(*) as cci FROM cci group by 1),\n",
    "part7 as(\n",
    "select part1.time_period, wage, irlt, share, unemp, cpi, cci\n",
    "from part1\n",
    "full join part2 on part1.time_period = part2.time_period\n",
    "full join part3 on part1.time_period = part3.time_period\n",
    "full join part4 on part1.time_period = part4.time_period\n",
    "full join part5 on part1.time_period = part5.time_period\n",
    "full join part6 on part1.time_period = part6.time_period\n",
    ")\n",
    "select * from part7\n",
    "where time_period is not null\n",
    "order by time_period desc\n",
    "''', conn)"
   ]
  },
  {
   "cell_type": "markdown",
   "metadata": {},
   "source": [
    "### combine the sources into main table"
   ]
  },
  {
   "cell_type": "code",
   "execution_count": 27,
   "metadata": {},
   "outputs": [],
   "source": [
    "conn.execute(''' drop table if exists main_table ''')\n",
    "conn.execute('''\n",
    "create table if not exists main_table as\n",
    "with irlt_dt as (select country, time_period, irlt from irlt),\n",
    "share_dt as (select country, time_period, share from share),\n",
    "unemp_dt as (select country, time_period, unemp from unemp),\n",
    "wage_dt as (select country, time_period, wage from wage),\n",
    "cpi_dt as (select country, time_period, cpi from cpi),\n",
    "cci_dt as (select country, time_period, cci from cci)\n",
    "select\n",
    "coalesce(t1.time_period, t2.time_period, t3.time_period, t4.time_period, t5.time_period, t6.time_period) as time_period,\n",
    "coalesce(t1.country, t2.country, t3.country, t4.country, t5.country, t6.country) as country,\n",
    "t1.irlt, t2.share, t3.unemp, t4.wage, t5.cpi, t6.cci\n",
    "from irlt_dt t1\n",
    "full join share_dt t2 on t1.time_period = t2.time_period and t1.country = t2.country\n",
    "full join unemp_dt t3 on t1.time_period = t3.time_period and t1.country = t3.country\n",
    "full join wage_dt t4 on t1.time_period = t4.time_period and t1.country = t4.country\n",
    "full join cpi_dt t5 on t1.time_period = t5.time_period and t1.country = t5.country\n",
    "full join cci_dt t6 on t1.time_period = t6.time_period and t1.country = t6.country\n",
    "''')\n",
    "conn.commit()"
   ]
  },
  {
   "cell_type": "markdown",
   "metadata": {},
   "source": [
    "### export the data to GCP"
   ]
  },
  {
   "cell_type": "code",
   "execution_count": 10,
   "metadata": {},
   "outputs": [
    {
     "name": "stdout",
     "output_type": "stream",
     "text": [
      "Buckets:\n",
      "footbal_climate_data\n",
      "ltint_forecast\n"
     ]
    }
   ],
   "source": [
    "from google.cloud import storage\n",
    "\n",
    "def list_buckets():\n",
    "    storage_client = storage.Client()\n",
    "    buckets = list(storage_client.list_buckets())\n",
    "    print(\"Buckets:\")\n",
    "    for bucket in buckets:\n",
    "        print(bucket.name)\n",
    "\n",
    "list_buckets()"
   ]
  },
  {
   "cell_type": "code",
   "execution_count": 25,
   "metadata": {},
   "outputs": [
    {
     "name": "stdout",
     "output_type": "stream",
     "text": [
      "main_table.csv\n",
      "File main_table.csv uploaded to main_table.csv.\n"
     ]
    }
   ],
   "source": [
    "import pandas as pd\n",
    "from google.cloud import storage\n",
    "import sqlite3\n",
    "\n",
    "def export_view_to_csv_and_upload(view_name):\n",
    "    # Load the data into a DataFrame\n",
    "    df = pd.read_sql(f\"SELECT *, date(time_period || '-01') as date FROM {view_name}\", conn)\n",
    "    float_columns = df.select_dtypes(include=['float64']).columns\n",
    "    # df[float_columns] = df[float_columns].fillna(0)\n",
    "    df = df.drop(columns=['time_period'])\n",
    "\n",
    "    csv_file_path = view_name + '.csv'\n",
    "    print(csv_file_path)\n",
    "    # Save the DataFrame to a CSV file\n",
    "    df.to_csv(csv_file_path, index=False)\n",
    "\n",
    "    # Upload the CSV file to GCP\n",
    "    storage_client = storage.Client()\n",
    "    bucket = storage_client.bucket(\"ltint_forecast\")\n",
    "    blob = bucket.blob(csv_file_path)\n",
    "    # Delete the existing file with the same name\n",
    "    blob.delete()\n",
    "    blob.upload_from_filename(csv_file_path)\n",
    "\n",
    "    print(f\"File {csv_file_path} uploaded to {csv_file_path}.\")\n",
    "\n",
    "# Example usage\n",
    "export_view_to_csv_and_upload('main_table')"
   ]
  }
 ],
 "metadata": {
  "kernelspec": {
   "display_name": ".venv",
   "language": "python",
   "name": "python3"
  },
  "language_info": {
   "codemirror_mode": {
    "name": "ipython",
    "version": 3
   },
   "file_extension": ".py",
   "mimetype": "text/x-python",
   "name": "python",
   "nbconvert_exporter": "python",
   "pygments_lexer": "ipython3",
   "version": "3.12.6"
  }
 },
 "nbformat": 4,
 "nbformat_minor": 2
}
